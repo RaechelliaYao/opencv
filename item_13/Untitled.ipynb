{
 "cells": [
  {
   "cell_type": "code",
   "execution_count": 1,
   "metadata": {},
   "outputs": [],
   "source": [
    "import tensorflow as tf\n",
    "from tensorflow import keras"
   ]
  },
  {
   "cell_type": "code",
   "execution_count": 2,
   "metadata": {},
   "outputs": [],
   "source": [
    "train_data_path = './image/train'\n",
    "test_data_path = './image/test'\n",
    "\n",
    "image_width, image_height = 48, 48\n",
    "batch_size = 32\n",
    "epochs = 15\n",
    "num_classes = 2"
   ]
  },
  {
   "cell_type": "code",
   "execution_count": 3,
   "metadata": {},
   "outputs": [],
   "source": [
    "basic_model = keras.applications.VGG16(weights='imagenet', include_top=False, input_shape=(image_width, image_height, 3))"
   ]
  },
  {
   "cell_type": "code",
   "execution_count": 4,
   "metadata": {},
   "outputs": [],
   "source": [
    "for layer in basic_model.layers[:10]:\n",
    "    layer.trainable = False"
   ]
  },
  {
   "cell_type": "code",
   "execution_count": 5,
   "metadata": {},
   "outputs": [],
   "source": [
    "x = basic_model.output\n",
    "x = keras.layers.Flatten()(x)\n",
    "predictions = keras.layers.Dense(num_classes, activation='softmax')(x)\n",
    "model = keras.models.Model(inputs=basic_model.input, outputs=predictions)"
   ]
  },
  {
   "cell_type": "code",
   "execution_count": 6,
   "metadata": {},
   "outputs": [],
   "source": [
    "model.compile(loss='categorical_crossentropy', optimizer=keras.optimizers.SGD(lr=0.0001, momentum=0.9), metrics=[\"accuracy\"])"
   ]
  },
  {
   "cell_type": "code",
   "execution_count": 7,
   "metadata": {},
   "outputs": [],
   "source": [
    "train_datagen = keras.preprocessing.image.ImageDataGenerator(rescale = 1./255, horizontal_flip = True, fill_mode = \"nearest\",\n",
    "                                                             zoom_range = 0.1, width_shift_range = 0.1, height_shift_range=0.1,\n",
    "                                                             rotation_range=5)\n",
    "test_datagen = keras.preprocessing.image.ImageDataGenerator(rescale = 1./255, horizontal_flip = True, fill_mode = \"nearest\",\n",
    "                                                            zoom_range = 0.1, width_shift_range = 0.1, height_shift_range=0.1,\n",
    "                                                            rotation_range=5)"
   ]
  },
  {
   "cell_type": "code",
   "execution_count": 8,
   "metadata": {},
   "outputs": [
    {
     "name": "stdout",
     "output_type": "stream",
     "text": [
      "Found 381 images belonging to 2 classes.\n",
      "Found 164 images belonging to 2 classes.\n"
     ]
    }
   ],
   "source": [
    "train_generator = train_datagen.flow_from_directory(train_data_path, target_size = (image_height, image_width), batch_size = batch_size, \n",
    "                                                    class_mode = \"categorical\")\n",
    "validation_generator = test_datagen.flow_from_directory(test_data_path, target_size = (image_height, image_width), \n",
    "                                                        class_mode = \"categorical\")"
   ]
  },
  {
   "cell_type": "code",
   "execution_count": null,
   "metadata": {},
   "outputs": [
    {
     "name": "stdout",
     "output_type": "stream",
     "text": [
      "Epoch 1/15\n",
      "381/381 [==============================] - 16s 41ms/step - loss: 0.0922 - accuracy: 0.9640\n",
      "Epoch 2/15\n",
      "381/381 [==============================] - 15s 40ms/step - loss: 0.0139 - accuracy: 0.9967\n",
      "Epoch 3/15\n",
      "381/381 [==============================] - 15s 40ms/step - loss: 0.0057 - accuracy: 0.9992\n",
      "Epoch 4/15\n",
      "381/381 [==============================] - 15s 40ms/step - loss: 0.0030 - accuracy: 0.9999\n",
      "Epoch 5/15\n",
      "381/381 [==============================] - 15s 40ms/step - loss: 0.0020 - accuracy: 0.9999\n",
      "Epoch 6/15\n",
      "381/381 [==============================] - 15s 40ms/step - loss: 0.0016 - accuracy: 1.0000\n",
      "Epoch 7/15\n",
      "381/381 [==============================] - 15s 40ms/step - loss: 0.0011 - accuracy: 1.0000\n",
      "Epoch 8/15\n",
      "381/381 [==============================] - 15s 40ms/step - loss: 8.6456e-04 - accuracy: 1.0000\n",
      "Epoch 9/15\n",
      "381/381 [==============================] - 16s 41ms/step - loss: 6.6554e-04 - accuracy: 1.0000\n",
      "Epoch 10/15\n",
      "381/381 [==============================] - 16s 42ms/step - loss: 6.1801e-04 - accuracy: 1.0000\n",
      "Epoch 11/15\n",
      "381/381 [==============================] - 16s 42ms/step - loss: 4.8777e-04 - accuracy: 1.0000\n",
      "Epoch 12/15\n",
      "381/381 [==============================] - 16s 41ms/step - loss: 4.3089e-04 - accuracy: 1.0000\n",
      "Epoch 13/15\n",
      "316/381 [=======================>......] - ETA: 2s - loss: 4.0208e-04 - accuracy: 1.0000"
     ]
    }
   ],
   "source": [
    "history = model.fit(train_generator, epochs=epochs, steps_per_epoch=381)"
   ]
  },
  {
   "cell_type": "code",
   "execution_count": null,
   "metadata": {},
   "outputs": [],
   "source": [
    "model.save('./save/model.h5')"
   ]
  }
 ],
 "metadata": {
  "kernelspec": {
   "display_name": "Python 3",
   "language": "python",
   "name": "python3"
  },
  "language_info": {
   "codemirror_mode": {
    "name": "ipython",
    "version": 3
   },
   "file_extension": ".py",
   "mimetype": "text/x-python",
   "name": "python",
   "nbconvert_exporter": "python",
   "pygments_lexer": "ipython3",
   "version": "3.7.4"
  }
 },
 "nbformat": 4,
 "nbformat_minor": 2
}
